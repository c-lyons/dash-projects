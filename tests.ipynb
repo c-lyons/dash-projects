{
 "metadata": {
  "language_info": {
   "codemirror_mode": {
    "name": "ipython",
    "version": 3
   },
   "file_extension": ".py",
   "mimetype": "text/x-python",
   "name": "python",
   "nbconvert_exporter": "python",
   "pygments_lexer": "ipython3",
   "version": "3.7.5-final"
  },
  "orig_nbformat": 2,
  "kernelspec": {
   "name": "python37564bit4eec6d845f7a40f7a73a116cfb083beb",
   "display_name": "Python 3.7.5 64-bit",
   "language": "python"
  }
 },
 "nbformat": 4,
 "nbformat_minor": 2,
 "cells": [
  {
   "cell_type": "code",
   "execution_count": 1,
   "metadata": {},
   "outputs": [],
   "source": [
    "import json\n",
    "import numpy as np\n",
    "import pandas as pd\n",
    "\n",
    "import plotly.offline as pyo\n",
    "import numpy as np\n",
    "import pandas as pd\n",
    "import os\n",
    "import plotly.graph_objs as go\n"
   ]
  },
  {
   "cell_type": "code",
   "execution_count": 17,
   "metadata": {},
   "outputs": [],
   "source": [
    "with open('data/geoJson.json', 'r') as f:\n",
    "    json_data = json.load(f)"
   ]
  },
  {
   "cell_type": "code",
   "execution_count": 46,
   "metadata": {},
   "outputs": [],
   "source": [
    "all_counties = json_data[0:25]"
   ]
  },
  {
   "cell_type": "code",
   "execution_count": 47,
   "metadata": {},
   "outputs": [
    {
     "output_type": "error",
     "ename": "TypeError",
     "evalue": "'module' object is not callable",
     "traceback": [
      "\u001b[1;31m---------------------------------------------------------------------------\u001b[0m",
      "\u001b[1;31mTypeError\u001b[0m                                 Traceback (most recent call last)",
      "\u001b[1;32m<ipython-input-47-995756a47611>\u001b[0m in \u001b[0;36m<module>\u001b[1;34m\u001b[0m\n\u001b[1;32m----> 1\u001b[1;33m \u001b[0mjson\u001b[0m\u001b[1;33m(\u001b[0m\u001b[0mall_counties\u001b[0m\u001b[1;33m)\u001b[0m\u001b[1;33m\u001b[0m\u001b[1;33m\u001b[0m\u001b[0m\n\u001b[0m",
      "\u001b[1;31mTypeError\u001b[0m: 'module' object is not callable"
     ]
    }
   ],
   "source": []
  },
  {
   "cell_type": "code",
   "execution_count": 23,
   "metadata": {},
   "outputs": [],
   "source": [
    "entries = ['PopulationCensus16', 'TimeStamp', 'IGEasting', 'IGNorthing', 'Lat', 'Long', 'UGI', 'ConfirmedCovidCases', 'PopulationProportionCovidCases', 'ConfirmedCovidDeaths', 'ConfirmedCovidRecovered', 'Shape__Area', 'Shape__Length']\n",
    "\n",
    "def entries_to_remove(entries, the_dict):\n",
    "    for key in entries:\n",
    "        if key in the_dict:\n",
    "            del the_dict[key]"
   ]
  },
  {
   "cell_type": "code",
   "execution_count": 24,
   "metadata": {},
   "outputs": [],
   "source": [
    "entries_to_remove(entries, json_data[0]['properties'])"
   ]
  },
  {
   "cell_type": "code",
   "execution_count": 4,
   "metadata": {},
   "outputs": [],
   "source": [
    "with open('data/counties.geojson', 'r', encoding=\"utf8\") as f:\n",
    "    json_counties = json.load(f)"
   ]
  },
  {
   "cell_type": "code",
   "execution_count": 16,
   "metadata": {},
   "outputs": [
    {
     "output_type": "execute_result",
     "data": {
      "text/plain": [
       "{'OSM_ID': -332622.0,\n",
       " 'NAME_TAG': 'Kerry',\n",
       " 'NAME_GA': 'Contae ChiarraÃ\\xad',\n",
       " 'NAME_EN': 'County Kerry',\n",
       " 'ALT_NAME': None,\n",
       " 'ALT_NAME_G': None,\n",
       " 'LOGAINM_RE': '100005',\n",
       " 'OSM_USER': 'Polarbear',\n",
       " 'OSM_TIMEST': '2009-11-21 02:58:22+01',\n",
       " 'ATTRIBUTIO': None,\n",
       " 'T_IE_URL': 'http://www.townlands.ie/kerry',\n",
       " 'AREA': 4807022980.06657,\n",
       " 'LATITUDE': 52.1194405389368,\n",
       " 'LONGITUDE': -9.72209384442438,\n",
       " 'EPOCH_TSTM': 1258768702.0}"
      ]
     },
     "metadata": {},
     "execution_count": 16
    }
   ],
   "source": [
    "json_counties['features'][0]['properties']"
   ]
  },
  {
   "cell_type": "code",
   "execution_count": 49,
   "metadata": {},
   "outputs": [
    {
     "output_type": "execute_result",
     "data": {
      "text/plain": [
       "      type  properties.OBJECTID  properties.ORIGID properties.CountyName  \\\n",
       "0  Feature                    1                  1                Carlow   \n",
       "1  Feature                    2                  2                 Cavan   \n",
       "2  Feature                    3                  3                 Clare   \n",
       "3  Feature                    4                  4                  Cork   \n",
       "4  Feature                    5                  5               Donegal   \n",
       "\n",
       "  geometry.type                               geometry.coordinates  \\\n",
       "0       Polygon  [[[-6.73698140151136, 52.9157463191999], [-6.7...   \n",
       "1       Polygon  [[[-7.94834411022533, 54.30457119879], [-7.862...   \n",
       "2  MultiPolygon  [[[[-9.0093086166057, 53.1408171931166], [-9.0...   \n",
       "3  MultiPolygon  [[[[-8.50929066015127, 51.8946688471251], [-8....   \n",
       "4  MultiPolygon  [[[[-7.24337440149989, 55.4507716324518], [-7....   \n",
       "\n",
       "   properties.PopulationCensus16      properties.TimeStamp  \\\n",
       "0                            NaN                       NaT   \n",
       "1                        76176.0 2020-02-27 00:00:00+00:00   \n",
       "2                       118817.0 2020-02-27 00:00:00+00:00   \n",
       "3                       542868.0 2020-02-27 00:00:00+00:00   \n",
       "4                       159192.0 2020-02-27 00:00:00+00:00   \n",
       "\n",
       "   properties.IGEasting  properties.IGNorthing  properties.Lat  \\\n",
       "0                   NaN                    NaN             NaN   \n",
       "1              246380.0               304501.0         53.9878   \n",
       "2              133493.0               182732.0         52.8917   \n",
       "3              156242.0                77860.0         51.9517   \n",
       "4              202615.0               405691.0         54.8989   \n",
       "\n",
       "   properties.Long                                     properties.UGI  \\\n",
       "0              NaN                                                NaN   \n",
       "1          -7.2937  http://data.geohive.ie/resource/county/2ae1962...   \n",
       "2          -8.9889  http://data.geohive.ie/resource/county/2ae1962...   \n",
       "3          -8.6372  http://data.geohive.ie/resource/county/2ae1962...   \n",
       "4          -7.9600  http://data.geohive.ie/resource/county/2ae1962...   \n",
       "\n",
       "   properties.ConfirmedCovidCases  properties.PopulationProportionCovidCases  \\\n",
       "0                             NaN                                        NaN   \n",
       "1                             0.0                                        NaN   \n",
       "2                             0.0                                        NaN   \n",
       "3                             0.0                                        NaN   \n",
       "4                             0.0                                        NaN   \n",
       "\n",
       "   properties.ConfirmedCovidDeaths  properties.ConfirmedCovidRecovered  \\\n",
       "0                              NaN                                 NaN   \n",
       "1                              NaN                                 NaN   \n",
       "2                              NaN                                 NaN   \n",
       "3                              NaN                                 NaN   \n",
       "4                              NaN                                 NaN   \n",
       "\n",
       "   properties.Shape__Area  properties.Shape__Length properties.Date  \n",
       "0                     NaN                       NaN             NaT  \n",
       "1            5.575010e+09              5.159545e+05      2020-02-27  \n",
       "2            8.722542e+09              1.013949e+06      2020-02-27  \n",
       "3            1.952949e+10              2.129949e+06      2020-02-27  \n",
       "4            1.462404e+10              2.145086e+06      2020-02-27  "
      ],
      "text/html": "<div>\n<style scoped>\n    .dataframe tbody tr th:only-of-type {\n        vertical-align: middle;\n    }\n\n    .dataframe tbody tr th {\n        vertical-align: top;\n    }\n\n    .dataframe thead th {\n        text-align: right;\n    }\n</style>\n<table border=\"1\" class=\"dataframe\">\n  <thead>\n    <tr style=\"text-align: right;\">\n      <th></th>\n      <th>type</th>\n      <th>properties.OBJECTID</th>\n      <th>properties.ORIGID</th>\n      <th>properties.CountyName</th>\n      <th>geometry.type</th>\n      <th>geometry.coordinates</th>\n      <th>properties.PopulationCensus16</th>\n      <th>properties.TimeStamp</th>\n      <th>properties.IGEasting</th>\n      <th>properties.IGNorthing</th>\n      <th>properties.Lat</th>\n      <th>properties.Long</th>\n      <th>properties.UGI</th>\n      <th>properties.ConfirmedCovidCases</th>\n      <th>properties.PopulationProportionCovidCases</th>\n      <th>properties.ConfirmedCovidDeaths</th>\n      <th>properties.ConfirmedCovidRecovered</th>\n      <th>properties.Shape__Area</th>\n      <th>properties.Shape__Length</th>\n      <th>properties.Date</th>\n    </tr>\n  </thead>\n  <tbody>\n    <tr>\n      <th>0</th>\n      <td>Feature</td>\n      <td>1</td>\n      <td>1</td>\n      <td>Carlow</td>\n      <td>Polygon</td>\n      <td>[[[-6.73698140151136, 52.9157463191999], [-6.7...</td>\n      <td>NaN</td>\n      <td>NaT</td>\n      <td>NaN</td>\n      <td>NaN</td>\n      <td>NaN</td>\n      <td>NaN</td>\n      <td>NaN</td>\n      <td>NaN</td>\n      <td>NaN</td>\n      <td>NaN</td>\n      <td>NaN</td>\n      <td>NaN</td>\n      <td>NaN</td>\n      <td>NaT</td>\n    </tr>\n    <tr>\n      <th>1</th>\n      <td>Feature</td>\n      <td>2</td>\n      <td>2</td>\n      <td>Cavan</td>\n      <td>Polygon</td>\n      <td>[[[-7.94834411022533, 54.30457119879], [-7.862...</td>\n      <td>76176.0</td>\n      <td>2020-02-27 00:00:00+00:00</td>\n      <td>246380.0</td>\n      <td>304501.0</td>\n      <td>53.9878</td>\n      <td>-7.2937</td>\n      <td>http://data.geohive.ie/resource/county/2ae1962...</td>\n      <td>0.0</td>\n      <td>NaN</td>\n      <td>NaN</td>\n      <td>NaN</td>\n      <td>5.575010e+09</td>\n      <td>5.159545e+05</td>\n      <td>2020-02-27</td>\n    </tr>\n    <tr>\n      <th>2</th>\n      <td>Feature</td>\n      <td>3</td>\n      <td>3</td>\n      <td>Clare</td>\n      <td>MultiPolygon</td>\n      <td>[[[[-9.0093086166057, 53.1408171931166], [-9.0...</td>\n      <td>118817.0</td>\n      <td>2020-02-27 00:00:00+00:00</td>\n      <td>133493.0</td>\n      <td>182732.0</td>\n      <td>52.8917</td>\n      <td>-8.9889</td>\n      <td>http://data.geohive.ie/resource/county/2ae1962...</td>\n      <td>0.0</td>\n      <td>NaN</td>\n      <td>NaN</td>\n      <td>NaN</td>\n      <td>8.722542e+09</td>\n      <td>1.013949e+06</td>\n      <td>2020-02-27</td>\n    </tr>\n    <tr>\n      <th>3</th>\n      <td>Feature</td>\n      <td>4</td>\n      <td>4</td>\n      <td>Cork</td>\n      <td>MultiPolygon</td>\n      <td>[[[[-8.50929066015127, 51.8946688471251], [-8....</td>\n      <td>542868.0</td>\n      <td>2020-02-27 00:00:00+00:00</td>\n      <td>156242.0</td>\n      <td>77860.0</td>\n      <td>51.9517</td>\n      <td>-8.6372</td>\n      <td>http://data.geohive.ie/resource/county/2ae1962...</td>\n      <td>0.0</td>\n      <td>NaN</td>\n      <td>NaN</td>\n      <td>NaN</td>\n      <td>1.952949e+10</td>\n      <td>2.129949e+06</td>\n      <td>2020-02-27</td>\n    </tr>\n    <tr>\n      <th>4</th>\n      <td>Feature</td>\n      <td>5</td>\n      <td>5</td>\n      <td>Donegal</td>\n      <td>MultiPolygon</td>\n      <td>[[[[-7.24337440149989, 55.4507716324518], [-7....</td>\n      <td>159192.0</td>\n      <td>2020-02-27 00:00:00+00:00</td>\n      <td>202615.0</td>\n      <td>405691.0</td>\n      <td>54.8989</td>\n      <td>-7.9600</td>\n      <td>http://data.geohive.ie/resource/county/2ae1962...</td>\n      <td>0.0</td>\n      <td>NaN</td>\n      <td>NaN</td>\n      <td>NaN</td>\n      <td>1.462404e+10</td>\n      <td>2.145086e+06</td>\n      <td>2020-02-27</td>\n    </tr>\n  </tbody>\n</table>\n</div>"
     },
     "metadata": {},
     "execution_count": 49
    }
   ],
   "source": [
    "def convertToTimestamp(df):\n",
    "    '''Converts input df timestamp col to datetime format'''\n",
    "    df['properties.TimeStamp'] = df['properties.TimeStamp'].apply(lambda x: pd.to_datetime(x))\n",
    "    return df\n",
    "\n",
    "def getDates(date_time_col):\n",
    "    date_col = date_time_col.apply(lambda x: x.date())\n",
    "    return date_col\n",
    "\n",
    "df = pd.json_normalize(json_data)\n",
    "df = convertToTimestamp(df)\n",
    "df['properties.Date'] = getDates(df['properties.TimeStamp'])\n",
    "df.head()"
   ]
  },
  {
   "cell_type": "code",
   "execution_count": 4,
   "metadata": {},
   "outputs": [
    {
     "output_type": "execute_result",
     "data": {
      "text/plain": [
       "Index(['type', 'properties.OBJECTID', 'properties.ORIGID',\n",
       "       'properties.CountyName', 'properties.PopulationCensus16',\n",
       "       'properties.TimeStamp', 'properties.IGEasting', 'properties.IGNorthing',\n",
       "       'properties.Lat', 'properties.Long', 'properties.UGI',\n",
       "       'properties.ConfirmedCovidCases',\n",
       "       'properties.PopulationProportionCovidCases',\n",
       "       'properties.ConfirmedCovidDeaths', 'properties.ConfirmedCovidRecovered',\n",
       "       'properties.Shape__Area', 'properties.Shape__Length', 'geometry.type',\n",
       "       'geometry.coordinates', 'properties.Date'],\n",
       "      dtype='object')"
      ]
     },
     "metadata": {},
     "execution_count": 4
    }
   ],
   "source": [
    "df.columns"
   ]
  },
  {
   "cell_type": "code",
   "execution_count": 50,
   "metadata": {},
   "outputs": [],
   "source": [
    "clean_df = df[['type', 'properties.ORIGID','properties.CountyName', 'geometry.type','geometry.coordinates']]"
   ]
  },
  {
   "cell_type": "code",
   "execution_count": 51,
   "metadata": {},
   "outputs": [],
   "source": [
    "temp_df = clean_df.copy()"
   ]
  },
  {
   "cell_type": "code",
   "execution_count": 52,
   "metadata": {},
   "outputs": [],
   "source": [
    "temp_df['geometry.coordinates'] = temp_df['geometry.coordinates'].astype(str)"
   ]
  },
  {
   "cell_type": "code",
   "execution_count": 53,
   "metadata": {},
   "outputs": [],
   "source": [
    "temp_df.drop_duplicates(inplace=True)"
   ]
  },
  {
   "source": [
    "clean_df = clean_df.loc[temp_df.index]"
   ],
   "cell_type": "markdown",
   "metadata": {}
  },
  {
   "cell_type": "code",
   "execution_count": 85,
   "metadata": {},
   "outputs": [
    {
     "output_type": "execute_result",
     "data": {
      "text/plain": [
       "{'type': 'Feature',\n",
       " 'properties': {'OBJECTID': 1, 'ORIGID': 1, 'CountyName': 'Carlow'},\n",
       " 'geometry': {'type': 'Polygon',\n",
       "  'coordinates': [[[-6.73698140151136, 52.9157463191999],\n",
       "    [-6.71178051817989, 52.9179051608509],\n",
       "    [-6.6855992108524, 52.9040905482314],\n",
       "    [-6.65955110212196, 52.9080367054459],\n",
       "    [-6.64597374123728, 52.8962466168519],\n",
       "    [-6.63470055366645, 52.9036049936957],\n",
       "    [-6.59152848500398, 52.8973748903847],\n",
       "    [-6.58667518127296, 52.8794527655204],\n",
       "    [-6.54920908553106, 52.8746682177914],\n",
       "    [-6.52718231391608, 52.8900539963128],\n",
       "    [-6.50494746193859, 52.8776397956703],\n",
       "    [-6.50908296684179, 52.8671100215954],\n",
       "    [-6.52909955678594, 52.8648468846564],\n",
       "    [-6.51849919388821, 52.8194960523613],\n",
       "    [-6.54844526241801, 52.8205605475229],\n",
       "    [-6.57216278107702, 52.8019118430444],\n",
       "    [-6.58703742691128, 52.8034391921925],\n",
       "    [-6.61423157663681, 52.8072703337629],\n",
       "    [-6.62488624898166, 52.8227106677261],\n",
       "    [-6.66469552378538, 52.8363988599559],\n",
       "    [-6.67247899542927, 52.816322464149],\n",
       "    [-6.70264254968265, 52.8052819835047],\n",
       "    [-6.71086895005039, 52.7762662519803],\n",
       "    [-6.67810951615419, 52.7797183029343],\n",
       "    [-6.65637026921052, 52.7687000172484],\n",
       "    [-6.65417166141724, 52.7460404995266],\n",
       "    [-6.62018830259086, 52.7085617974254],\n",
       "    [-6.67496747788663, 52.6778977129025],\n",
       "    [-6.67952869619961, 52.6684977730248],\n",
       "    [-6.65701849890942, 52.667165499363],\n",
       "    [-6.65041644481482, 52.656345063322],\n",
       "    [-6.67604894618243, 52.6379018494425],\n",
       "    [-6.7298055808684, 52.6427217229258],\n",
       "    [-6.77712499243291, 52.6209268769854],\n",
       "    [-6.78997317912339, 52.5625385567846],\n",
       "    [-6.80091517671356, 52.5654933658334],\n",
       "    [-6.80552191445863, 52.5489259268346],\n",
       "    [-6.83684236135571, 52.5302800631085],\n",
       "    [-6.83272923168958, 52.516686588873],\n",
       "    [-6.86551522248051, 52.4759792530447],\n",
       "    [-6.91282310955826, 52.4648661291901],\n",
       "    [-6.9340509213562, 52.4671104817396],\n",
       "    [-6.92617386502263, 52.4691777708312],\n",
       "    [-6.91791909316326, 52.4754005350846],\n",
       "    [-6.92719292196579, 52.4809151151069],\n",
       "    [-6.92419551695054, 52.485542160124],\n",
       "    [-6.93971308613531, 52.5021699163927],\n",
       "    [-6.9347210447952, 52.5273928778746],\n",
       "    [-6.95936927288579, 52.5366421029688],\n",
       "    [-6.9144541725348, 52.5624734583636],\n",
       "    [-6.92679590344113, 52.5879323672577],\n",
       "    [-6.98519887720314, 52.6188377661788],\n",
       "    [-6.9800956028713, 52.6688894983336],\n",
       "    [-7.04186960085669, 52.7154154207635],\n",
       "    [-7.05243801247642, 52.7029129832441],\n",
       "    [-7.08012723812804, 52.7265382368613],\n",
       "    [-7.10796903903741, 52.7253272734068],\n",
       "    [-7.09001671383578, 52.7339999864073],\n",
       "    [-7.10218005190311, 52.7464344424244],\n",
       "    [-7.08315567634312, 52.7571527452644],\n",
       "    [-7.09067422852149, 52.7760934042822],\n",
       "    [-7.06043094249846, 52.7931279476462],\n",
       "    [-7.04147679902397, 52.7980196387961],\n",
       "    [-7.03908953154634, 52.8082237604159],\n",
       "    [-6.95119797966913, 52.8151897453196],\n",
       "    [-6.93730983583212, 52.8287152206031],\n",
       "    [-6.94590066025277, 52.8395091296497],\n",
       "    [-6.93178971536065, 52.846400173151],\n",
       "    [-6.93950647361996, 52.8799897913451],\n",
       "    [-6.9216641839558, 52.8857870105366],\n",
       "    [-6.92094604466654, 52.8769256387553],\n",
       "    [-6.87954534235325, 52.8575595016942],\n",
       "    [-6.86838245622122, 52.8616366801817],\n",
       "    [-6.87686224258455, 52.8761526794694],\n",
       "    [-6.84817690475876, 52.8600126775632],\n",
       "    [-6.82622516313125, 52.8722039639054],\n",
       "    [-6.78837542837252, 52.865894579987],\n",
       "    [-6.76526885483659, 52.8894066252213],\n",
       "    [-6.7494951660828, 52.8896584197647],\n",
       "    [-6.73698140151136, 52.9157463191999]]]}}"
      ]
     },
     "metadata": {},
     "execution_count": 85
    }
   ],
   "source": [
    "all_counties[0]"
   ]
  },
  {
   "cell_type": "code",
   "execution_count": 63,
   "metadata": {},
   "outputs": [],
   "source": [
    "test_json = json.loads(clean_df.to_json(orient='table', index=False))"
   ]
  },
  {
   "cell_type": "code",
   "execution_count": 56,
   "metadata": {},
   "outputs": [],
   "source": [
    "# test_json.keys()"
   ]
  },
  {
   "cell_type": "code",
   "execution_count": 54,
   "metadata": {},
   "outputs": [],
   "source": [
    "# test_json['columns'][1]"
   ]
  },
  {
   "source": [],
   "cell_type": "markdown",
   "metadata": {}
  },
  {
   "cell_type": "code",
   "execution_count": 71,
   "metadata": {},
   "outputs": [],
   "source": [
    "date_df = df[df['properties.Date']==pd.to_datetime('2021-01-10')]"
   ]
  },
  {
   "cell_type": "code",
   "execution_count": 102,
   "metadata": {},
   "outputs": [
    {
     "output_type": "execute_result",
     "data": {
      "text/plain": [
       "type                                                                                   Feature\n",
       "properties.OBJECTID                                                                       8217\n",
       "properties.ORIGID                                                                            1\n",
       "properties.CountyName                                                                   Carlow\n",
       "geometry.type                                                                          Polygon\n",
       "geometry.coordinates                         [[[-6.73698140151136, 52.9157463191999], [-6.7...\n",
       "properties.PopulationCensus16                                                          56932.0\n",
       "properties.TimeStamp                                                 2021-01-10 00:00:00+00:00\n",
       "properties.IGEasting                                                                  278661.0\n",
       "properties.IGNorthing                                                                 163444.0\n",
       "properties.Lat                                                                         52.7168\n",
       "properties.Long                                                                        -6.8367\n",
       "properties.UGI                               http://data.geohive.ie/resource/county/2ae1962...\n",
       "properties.ConfirmedCovidCases                                                          1685.0\n",
       "properties.PopulationProportionCovidCases                                          2959.671187\n",
       "properties.ConfirmedCovidDeaths                                                            NaN\n",
       "properties.ConfirmedCovidRecovered                                                         NaN\n",
       "properties.Shape__Area                                                        2432351721.08691\n",
       "properties.Shape__Length                                                         319348.572539\n",
       "properties.Date                                                                     2021-01-10\n",
       "Name: 8216, dtype: object"
      ]
     },
     "metadata": {},
     "execution_count": 102
    }
   ],
   "source": [
    "date_df.iloc[0]"
   ]
  },
  {
   "cell_type": "code",
   "execution_count": 118,
   "metadata": {},
   "outputs": [],
   "source": [
    "\n",
    "user_in='Leitrim'\n",
    "ix = int(date_df[date_df['properties.CountyName']==user_in]['properties.ORIGID'].values)"
   ]
  },
  {
   "cell_type": "code",
   "execution_count": 121,
   "metadata": {},
   "outputs": [
    {
     "output_type": "display_data",
     "data": {
      "application/vnd.plotly.v1+json": {
       "config": {
        "plotlyServerURL": "https://plot.ly"
       },
       "data": [
        {
         "colorscale": [
          [
           0,
           "#440154"
          ],
          [
           0.1111111111111111,
           "#482878"
          ],
          [
           0.2222222222222222,
           "#3e4989"
          ],
          [
           0.3333333333333333,
           "#31688e"
          ],
          [
           0.4444444444444444,
           "#26828e"
          ],
          [
           0.5555555555555556,
           "#1f9e89"
          ],
          [
           0.6666666666666666,
           "#35b779"
          ],
          [
           0.7777777777777778,
           "#6ece58"
          ],
          [
           0.8888888888888888,
           "#b5de2b"
          ],
          [
           1,
           "#fde725"
          ]
         ],
         "featureidkey": "properties.ORIGID",
         "geojson": {
          "geometry": {
           "coordinates": [
            [
             [
              -8.17738154489478,
              54.4647979795109
             ],
             [
              -8.14311402828278,
              54.4509738930326
             ],
             [
              -8.16199570915484,
              54.4421242598003
             ],
             [
              -8.08412097636344,
              54.3973948060558
             ],
             [
              -8.05705864003284,
              54.3659727384292
             ],
             [
              -8.03098500657191,
              54.3569492949745
             ],
             [
              -8.00074597856332,
              54.3586979334289
             ],
             [
              -7.94834411022533,
              54.30457119879
             ],
             [
              -8.0035698820663,
              54.2495666067691
             ],
             [
              -8.04081991591436,
              54.2541572357519
             ],
             [
              -8.05407091436475,
              54.242546054039
             ],
             [
              -8.03261532125183,
              54.2130878529253
             ],
             [
              -8.04789267194647,
              54.1870233164629
             ],
             [
              -8.00494113699131,
              54.1924048651895
             ],
             [
              -7.98977464558923,
              54.1810322149418
             ],
             [
              -7.95325702346365,
              54.179065011256
             ],
             [
              -7.8310314859316,
              54.0989004875735
             ],
             [
              -7.79612839867966,
              54.1173957347405
             ],
             [
              -7.7841529001349,
              54.1081910737791
             ],
             [
              -7.76402769938132,
              54.1104620883002
             ],
             [
              -7.73619953579628,
              54.0950148432242
             ],
             [
              -7.73618713275716,
              54.0829845321829
             ],
             [
              -7.70913757585977,
              54.0844378526242
             ],
             [
              -7.68461800897575,
              54.0603667162675
             ],
             [
              -7.65738814762445,
              54.0564478624457
             ],
             [
              -7.65468528761443,
              54.042896493188
             ],
             [
              -7.63551841948741,
              54.0405029119957
             ],
             [
              -7.6401949814829,
              54.0226152425896
             ],
             [
              -7.61218419938372,
              54.0190228955579
             ],
             [
              -7.61078285898153,
              54.0267449099188
             ],
             [
              -7.59286659754531,
              54.0166416505118
             ],
             [
              -7.59997035264126,
              53.9878833726276
             ],
             [
              -7.58462973360114,
              53.9810126347788
             ],
             [
              -7.58594398772642,
              53.9597419347457
             ],
             [
              -7.60991459324198,
              53.938471688478
             ],
             [
              -7.64926510202339,
              53.9419456407974
             ],
             [
              -7.66693266307656,
              53.9214615769149
             ],
             [
              -7.69087759563963,
              53.9184898653291
             ],
             [
              -7.69036903420445,
              53.9059879146215
             ],
             [
              -7.71102216586737,
              53.9003811079263
             ],
             [
              -7.72984525322671,
              53.8790125564081
             ],
             [
              -7.75064214497946,
              53.8793257464201
             ],
             [
              -7.75920941377672,
              53.8636093650016
             ],
             [
              -7.77629354330741,
              53.8676957681637
             ],
             [
              -7.77083951997624,
              53.8483867538174
             ],
             [
              -7.78780144179733,
              53.8164502662535
             ],
             [
              -7.81492143469783,
              53.8199707764249
             ],
             [
              -7.83680534004666,
              53.8109287580929
             ],
             [
              -7.85699660290623,
              53.8314904131797
             ],
             [
              -7.86804380399594,
              53.8060329445774
             ],
             [
              -7.87154223537776,
              53.8175526518175
             ],
             [
              -7.88484182370188,
              53.8174575442774
             ],
             [
              -7.88248366792765,
              53.8291558653052
             ],
             [
              -7.91866419005631,
              53.8215246271656
             ],
             [
              -7.928665984819,
              53.8503011270158
             ],
             [
              -7.94027408678562,
              53.8475193009027
             ],
             [
              -7.96151956575024,
              53.8670549800976
             ],
             [
              -7.98101230313644,
              53.8699214592975
             ],
             [
              -7.98938081608384,
              53.9160550794949
             ],
             [
              -8.01007629792248,
              53.9330438754491
             ],
             [
              -8.03118394477979,
              53.9333188232037
             ],
             [
              -8.02951209020451,
              53.9223979285499
             ],
             [
              -8.06177778127445,
              53.9097181432499
             ],
             [
              -8.0934800786426,
              53.9302596098003
             ],
             [
              -8.08447228052161,
              53.9426988478628
             ],
             [
              -8.11555399833528,
              53.9528862899518
             ],
             [
              -8.06859336850537,
              53.9869896526586
             ],
             [
              -8.09165486727531,
              54.0337315334265
             ],
             [
              -8.08055429278295,
              54.0530156136854
             ],
             [
              -8.04795594747845,
              54.0717458508541
             ],
             [
              -8.05280668023111,
              54.1047954984637
             ],
             [
              -8.10539001903628,
              54.1089978311994
             ],
             [
              -8.14819667999065,
              54.1252284947877
             ],
             [
              -8.16381057911661,
              54.1090477859928
             ],
             [
              -8.22784675148142,
              54.1548744576368
             ],
             [
              -8.25106383127203,
              54.1594550183387
             ],
             [
              -8.28123431243456,
              54.1527300341336
             ],
             [
              -8.32823890311957,
              54.1734115460091
             ],
             [
              -8.31634543423496,
              54.1883872793119
             ],
             [
              -8.3476143941915,
              54.1994349003669
             ],
             [
              -8.33176974661516,
              54.2121112249933
             ],
             [
              -8.34652643107619,
              54.2989971479322
             ],
             [
              -8.35470035994987,
              54.3126489775569
             ],
             [
              -8.39010525240773,
              54.3206418817719
             ],
             [
              -8.39960544498375,
              54.3598644958849
             ],
             [
              -8.36537085072857,
              54.3721062196865
             ],
             [
              -8.34446280234088,
              54.4213180931761
             ],
             [
              -8.39119392698878,
              54.4283107589067
             ],
             [
              -8.39820840481683,
              54.4173623192722
             ],
             [
              -8.42780501163314,
              54.4212271327856
             ],
             [
              -8.40188096383669,
              54.4459764179078
             ],
             [
              -8.37308932027852,
              54.4504497415556
             ],
             [
              -8.3814087816181,
              54.4643398958084
             ],
             [
              -8.32148763346636,
              54.4734986945146
             ],
             [
              -8.25965031233828,
              54.458902128439
             ],
             [
              -8.23641763240441,
              54.4611352131396
             ],
             [
              -8.22101415285397,
              54.4729321893015
             ],
             [
              -8.17738154489478,
              54.4647979795109
             ]
            ]
           ],
           "type": "Polygon"
          },
          "properties": {
           "ConfirmedCovidCases": 0,
           "ConfirmedCovidDeaths": null,
           "ConfirmedCovidRecovered": null,
           "CountyName": "Leitrim",
           "IGEasting": 200446,
           "IGNorthing": 319670,
           "Lat": 54.1261,
           "Long": -7.9939,
           "OBJECTID": 12,
           "ORIGID": 12,
           "PopulationCensus16": 32044,
           "PopulationProportionCovidCases": null,
           "Shape__Area": 4618679672.90234,
           "Shape__Length": 453253.685043117,
           "TimeStamp": "2020/02/27 00:00:00+00",
           "UGI": "http://data.geohive.ie/resource/county/2ae19629-143f-13a3-e055-000000000001"
          },
          "type": "Feature"
         },
         "locations": [
          1,
          2,
          3,
          4,
          5,
          6,
          7,
          8,
          9,
          10,
          11,
          12,
          13,
          14,
          15,
          16,
          17,
          18,
          19,
          20,
          21,
          22,
          23,
          24,
          25,
          26
         ],
         "marker": {
          "line": {
           "width": 2
          },
          "opacity": 0.35
         },
         "name": "properties.CountyName",
         "type": "choroplethmapbox",
         "z": [
          1685,
          3581,
          3425,
          15357,
          6372,
          53005,
          5239,
          3362,
          6902,
          2668,
          2005,
          526,
          7562,
          1118,
          5791,
          3455,
          6201,
          3206,
          2010,
          1571,
          1665,
          3208,
          3222,
          2304,
          4244,
          2821
         ]
        }
       ],
       "layout": {
        "mapbox": {
         "center": {
          "lat": 53.7168,
          "lon": -7.8367
         },
         "style": "carto-positron",
         "zoom": 6
        },
        "margin": {
         "b": 0,
         "l": 0,
         "r": 0,
         "t": 0
        },
        "template": {
         "data": {
          "bar": [
           {
            "error_x": {
             "color": "#2a3f5f"
            },
            "error_y": {
             "color": "#2a3f5f"
            },
            "marker": {
             "line": {
              "color": "#E5ECF6",
              "width": 0.5
             }
            },
            "type": "bar"
           }
          ],
          "barpolar": [
           {
            "marker": {
             "line": {
              "color": "#E5ECF6",
              "width": 0.5
             }
            },
            "type": "barpolar"
           }
          ],
          "carpet": [
           {
            "aaxis": {
             "endlinecolor": "#2a3f5f",
             "gridcolor": "white",
             "linecolor": "white",
             "minorgridcolor": "white",
             "startlinecolor": "#2a3f5f"
            },
            "baxis": {
             "endlinecolor": "#2a3f5f",
             "gridcolor": "white",
             "linecolor": "white",
             "minorgridcolor": "white",
             "startlinecolor": "#2a3f5f"
            },
            "type": "carpet"
           }
          ],
          "choropleth": [
           {
            "colorbar": {
             "outlinewidth": 0,
             "ticks": ""
            },
            "type": "choropleth"
           }
          ],
          "contour": [
           {
            "colorbar": {
             "outlinewidth": 0,
             "ticks": ""
            },
            "colorscale": [
             [
              0,
              "#0d0887"
             ],
             [
              0.1111111111111111,
              "#46039f"
             ],
             [
              0.2222222222222222,
              "#7201a8"
             ],
             [
              0.3333333333333333,
              "#9c179e"
             ],
             [
              0.4444444444444444,
              "#bd3786"
             ],
             [
              0.5555555555555556,
              "#d8576b"
             ],
             [
              0.6666666666666666,
              "#ed7953"
             ],
             [
              0.7777777777777778,
              "#fb9f3a"
             ],
             [
              0.8888888888888888,
              "#fdca26"
             ],
             [
              1,
              "#f0f921"
             ]
            ],
            "type": "contour"
           }
          ],
          "contourcarpet": [
           {
            "colorbar": {
             "outlinewidth": 0,
             "ticks": ""
            },
            "type": "contourcarpet"
           }
          ],
          "heatmap": [
           {
            "colorbar": {
             "outlinewidth": 0,
             "ticks": ""
            },
            "colorscale": [
             [
              0,
              "#0d0887"
             ],
             [
              0.1111111111111111,
              "#46039f"
             ],
             [
              0.2222222222222222,
              "#7201a8"
             ],
             [
              0.3333333333333333,
              "#9c179e"
             ],
             [
              0.4444444444444444,
              "#bd3786"
             ],
             [
              0.5555555555555556,
              "#d8576b"
             ],
             [
              0.6666666666666666,
              "#ed7953"
             ],
             [
              0.7777777777777778,
              "#fb9f3a"
             ],
             [
              0.8888888888888888,
              "#fdca26"
             ],
             [
              1,
              "#f0f921"
             ]
            ],
            "type": "heatmap"
           }
          ],
          "heatmapgl": [
           {
            "colorbar": {
             "outlinewidth": 0,
             "ticks": ""
            },
            "colorscale": [
             [
              0,
              "#0d0887"
             ],
             [
              0.1111111111111111,
              "#46039f"
             ],
             [
              0.2222222222222222,
              "#7201a8"
             ],
             [
              0.3333333333333333,
              "#9c179e"
             ],
             [
              0.4444444444444444,
              "#bd3786"
             ],
             [
              0.5555555555555556,
              "#d8576b"
             ],
             [
              0.6666666666666666,
              "#ed7953"
             ],
             [
              0.7777777777777778,
              "#fb9f3a"
             ],
             [
              0.8888888888888888,
              "#fdca26"
             ],
             [
              1,
              "#f0f921"
             ]
            ],
            "type": "heatmapgl"
           }
          ],
          "histogram": [
           {
            "marker": {
             "colorbar": {
              "outlinewidth": 0,
              "ticks": ""
             }
            },
            "type": "histogram"
           }
          ],
          "histogram2d": [
           {
            "colorbar": {
             "outlinewidth": 0,
             "ticks": ""
            },
            "colorscale": [
             [
              0,
              "#0d0887"
             ],
             [
              0.1111111111111111,
              "#46039f"
             ],
             [
              0.2222222222222222,
              "#7201a8"
             ],
             [
              0.3333333333333333,
              "#9c179e"
             ],
             [
              0.4444444444444444,
              "#bd3786"
             ],
             [
              0.5555555555555556,
              "#d8576b"
             ],
             [
              0.6666666666666666,
              "#ed7953"
             ],
             [
              0.7777777777777778,
              "#fb9f3a"
             ],
             [
              0.8888888888888888,
              "#fdca26"
             ],
             [
              1,
              "#f0f921"
             ]
            ],
            "type": "histogram2d"
           }
          ],
          "histogram2dcontour": [
           {
            "colorbar": {
             "outlinewidth": 0,
             "ticks": ""
            },
            "colorscale": [
             [
              0,
              "#0d0887"
             ],
             [
              0.1111111111111111,
              "#46039f"
             ],
             [
              0.2222222222222222,
              "#7201a8"
             ],
             [
              0.3333333333333333,
              "#9c179e"
             ],
             [
              0.4444444444444444,
              "#bd3786"
             ],
             [
              0.5555555555555556,
              "#d8576b"
             ],
             [
              0.6666666666666666,
              "#ed7953"
             ],
             [
              0.7777777777777778,
              "#fb9f3a"
             ],
             [
              0.8888888888888888,
              "#fdca26"
             ],
             [
              1,
              "#f0f921"
             ]
            ],
            "type": "histogram2dcontour"
           }
          ],
          "mesh3d": [
           {
            "colorbar": {
             "outlinewidth": 0,
             "ticks": ""
            },
            "type": "mesh3d"
           }
          ],
          "parcoords": [
           {
            "line": {
             "colorbar": {
              "outlinewidth": 0,
              "ticks": ""
             }
            },
            "type": "parcoords"
           }
          ],
          "pie": [
           {
            "automargin": true,
            "type": "pie"
           }
          ],
          "scatter": [
           {
            "marker": {
             "colorbar": {
              "outlinewidth": 0,
              "ticks": ""
             }
            },
            "type": "scatter"
           }
          ],
          "scatter3d": [
           {
            "line": {
             "colorbar": {
              "outlinewidth": 0,
              "ticks": ""
             }
            },
            "marker": {
             "colorbar": {
              "outlinewidth": 0,
              "ticks": ""
             }
            },
            "type": "scatter3d"
           }
          ],
          "scattercarpet": [
           {
            "marker": {
             "colorbar": {
              "outlinewidth": 0,
              "ticks": ""
             }
            },
            "type": "scattercarpet"
           }
          ],
          "scattergeo": [
           {
            "marker": {
             "colorbar": {
              "outlinewidth": 0,
              "ticks": ""
             }
            },
            "type": "scattergeo"
           }
          ],
          "scattergl": [
           {
            "marker": {
             "colorbar": {
              "outlinewidth": 0,
              "ticks": ""
             }
            },
            "type": "scattergl"
           }
          ],
          "scattermapbox": [
           {
            "marker": {
             "colorbar": {
              "outlinewidth": 0,
              "ticks": ""
             }
            },
            "type": "scattermapbox"
           }
          ],
          "scatterpolar": [
           {
            "marker": {
             "colorbar": {
              "outlinewidth": 0,
              "ticks": ""
             }
            },
            "type": "scatterpolar"
           }
          ],
          "scatterpolargl": [
           {
            "marker": {
             "colorbar": {
              "outlinewidth": 0,
              "ticks": ""
             }
            },
            "type": "scatterpolargl"
           }
          ],
          "scatterternary": [
           {
            "marker": {
             "colorbar": {
              "outlinewidth": 0,
              "ticks": ""
             }
            },
            "type": "scatterternary"
           }
          ],
          "surface": [
           {
            "colorbar": {
             "outlinewidth": 0,
             "ticks": ""
            },
            "colorscale": [
             [
              0,
              "#0d0887"
             ],
             [
              0.1111111111111111,
              "#46039f"
             ],
             [
              0.2222222222222222,
              "#7201a8"
             ],
             [
              0.3333333333333333,
              "#9c179e"
             ],
             [
              0.4444444444444444,
              "#bd3786"
             ],
             [
              0.5555555555555556,
              "#d8576b"
             ],
             [
              0.6666666666666666,
              "#ed7953"
             ],
             [
              0.7777777777777778,
              "#fb9f3a"
             ],
             [
              0.8888888888888888,
              "#fdca26"
             ],
             [
              1,
              "#f0f921"
             ]
            ],
            "type": "surface"
           }
          ],
          "table": [
           {
            "cells": {
             "fill": {
              "color": "#EBF0F8"
             },
             "line": {
              "color": "white"
             }
            },
            "header": {
             "fill": {
              "color": "#C8D4E3"
             },
             "line": {
              "color": "white"
             }
            },
            "type": "table"
           }
          ]
         },
         "layout": {
          "annotationdefaults": {
           "arrowcolor": "#2a3f5f",
           "arrowhead": 0,
           "arrowwidth": 1
          },
          "autotypenumbers": "strict",
          "coloraxis": {
           "colorbar": {
            "outlinewidth": 0,
            "ticks": ""
           }
          },
          "colorscale": {
           "diverging": [
            [
             0,
             "#8e0152"
            ],
            [
             0.1,
             "#c51b7d"
            ],
            [
             0.2,
             "#de77ae"
            ],
            [
             0.3,
             "#f1b6da"
            ],
            [
             0.4,
             "#fde0ef"
            ],
            [
             0.5,
             "#f7f7f7"
            ],
            [
             0.6,
             "#e6f5d0"
            ],
            [
             0.7,
             "#b8e186"
            ],
            [
             0.8,
             "#7fbc41"
            ],
            [
             0.9,
             "#4d9221"
            ],
            [
             1,
             "#276419"
            ]
           ],
           "sequential": [
            [
             0,
             "#0d0887"
            ],
            [
             0.1111111111111111,
             "#46039f"
            ],
            [
             0.2222222222222222,
             "#7201a8"
            ],
            [
             0.3333333333333333,
             "#9c179e"
            ],
            [
             0.4444444444444444,
             "#bd3786"
            ],
            [
             0.5555555555555556,
             "#d8576b"
            ],
            [
             0.6666666666666666,
             "#ed7953"
            ],
            [
             0.7777777777777778,
             "#fb9f3a"
            ],
            [
             0.8888888888888888,
             "#fdca26"
            ],
            [
             1,
             "#f0f921"
            ]
           ],
           "sequentialminus": [
            [
             0,
             "#0d0887"
            ],
            [
             0.1111111111111111,
             "#46039f"
            ],
            [
             0.2222222222222222,
             "#7201a8"
            ],
            [
             0.3333333333333333,
             "#9c179e"
            ],
            [
             0.4444444444444444,
             "#bd3786"
            ],
            [
             0.5555555555555556,
             "#d8576b"
            ],
            [
             0.6666666666666666,
             "#ed7953"
            ],
            [
             0.7777777777777778,
             "#fb9f3a"
            ],
            [
             0.8888888888888888,
             "#fdca26"
            ],
            [
             1,
             "#f0f921"
            ]
           ]
          },
          "colorway": [
           "#636efa",
           "#EF553B",
           "#00cc96",
           "#ab63fa",
           "#FFA15A",
           "#19d3f3",
           "#FF6692",
           "#B6E880",
           "#FF97FF",
           "#FECB52"
          ],
          "font": {
           "color": "#2a3f5f"
          },
          "geo": {
           "bgcolor": "white",
           "lakecolor": "white",
           "landcolor": "#E5ECF6",
           "showlakes": true,
           "showland": true,
           "subunitcolor": "white"
          },
          "hoverlabel": {
           "align": "left"
          },
          "hovermode": "closest",
          "mapbox": {
           "style": "light"
          },
          "paper_bgcolor": "white",
          "plot_bgcolor": "#E5ECF6",
          "polar": {
           "angularaxis": {
            "gridcolor": "white",
            "linecolor": "white",
            "ticks": ""
           },
           "bgcolor": "#E5ECF6",
           "radialaxis": {
            "gridcolor": "white",
            "linecolor": "white",
            "ticks": ""
           }
          },
          "scene": {
           "xaxis": {
            "backgroundcolor": "#E5ECF6",
            "gridcolor": "white",
            "gridwidth": 2,
            "linecolor": "white",
            "showbackground": true,
            "ticks": "",
            "zerolinecolor": "white"
           },
           "yaxis": {
            "backgroundcolor": "#E5ECF6",
            "gridcolor": "white",
            "gridwidth": 2,
            "linecolor": "white",
            "showbackground": true,
            "ticks": "",
            "zerolinecolor": "white"
           },
           "zaxis": {
            "backgroundcolor": "#E5ECF6",
            "gridcolor": "white",
            "gridwidth": 2,
            "linecolor": "white",
            "showbackground": true,
            "ticks": "",
            "zerolinecolor": "white"
           }
          },
          "shapedefaults": {
           "line": {
            "color": "#2a3f5f"
           }
          },
          "ternary": {
           "aaxis": {
            "gridcolor": "white",
            "linecolor": "white",
            "ticks": ""
           },
           "baxis": {
            "gridcolor": "white",
            "linecolor": "white",
            "ticks": ""
           },
           "bgcolor": "#E5ECF6",
           "caxis": {
            "gridcolor": "white",
            "linecolor": "white",
            "ticks": ""
           }
          },
          "title": {
           "x": 0.05
          },
          "xaxis": {
           "automargin": true,
           "gridcolor": "white",
           "linecolor": "white",
           "ticks": "",
           "title": {
            "standoff": 15
           },
           "zerolinecolor": "white",
           "zerolinewidth": 2
          },
          "yaxis": {
           "automargin": true,
           "gridcolor": "white",
           "linecolor": "white",
           "ticks": "",
           "title": {
            "standoff": 15
           },
           "zerolinecolor": "white",
           "zerolinewidth": 2
          }
         }
        }
       }
      }
     },
     "metadata": {}
    }
   ],
   "source": [
    "fig = go.Figure(go.Choroplethmapbox(geojson=all_counties[ix-1],\n",
    "                                    locations=date_df['properties.ORIGID'],\n",
    "                                    z=date_df['properties.ConfirmedCovidCases'],\n",
    "                                    name='properties.CountyName',\n",
    "                                    featureidkey='properties.ORIGID',\n",
    "                                    colorscale=\"Viridis\",\n",
    "                                    marker_opacity=0.35, marker_line_width=2))\n",
    "fig.update_layout(mapbox_style=\"carto-positron\",\n",
    "                  mapbox_zoom=6, mapbox_center = {\"lat\": 53.7168, \"lon\": -7.8367})\n",
    "fig.update_layout(margin={\"r\":0,\"t\":0,\"l\":0,\"b\":0})\n",
    "fig.show()"
   ]
  },
  {
   "cell_type": "code",
   "execution_count": null,
   "metadata": {},
   "outputs": [],
   "source": []
  }
 ]
}